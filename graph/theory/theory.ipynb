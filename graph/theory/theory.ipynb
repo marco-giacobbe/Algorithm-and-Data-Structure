{
 "cells": [
  {
   "cell_type": "markdown",
   "id": "5db76284",
   "metadata": {},
   "source": [
    "# GRAPH"
   ]
  },
  {
   "cell_type": "markdown",
   "id": "afa39abf",
   "metadata": {},
   "source": [
    "## INTRODUZIONE"
   ]
  },
  {
   "cell_type": "markdown",
   "id": "46447abb",
   "metadata": {},
   "source": [
    "I grafi sono una struttura dati non lineare usata particolarmente nell'informatica moderna delle reti composto da VERTICI interconnessi tra loro attraverso ARCHI\n",
    "\n",
    "Un **ARCO** può essere:\n",
    "- Orientato se la coppia dei vertici *(U, V)* è ordinata\n",
    "- Non orientato se non vi è un ordine tra *(U, V)*\n",
    "\n",
    "UN **GRAFO** si dice:\n",
    "- *Orientato* se tutti gli archi sono orientati\n",
    "- *Non orientato* se tutti gli archi non sono orientati\n",
    "- *Misto* se presenta archi orientati e non\n",
    "\n",
    "In un arco non orientato, i due vertici si chiamano **End-Vertices** o **EndPoints**\n",
    "\n",
    "In un arco orientato, il primo endpoint è chiamato **Origine**, l'ultimo **Destinazione**"
   ]
  },
  {
   "cell_type": "markdown",
   "id": "0105536a",
   "metadata": {},
   "source": [
    "Due vertici sono **adiacenti** se c'è un arco che li collega\n",
    "\n",
    "Un arco si dice **incidente** ad un vertice se quel vertice è un endpoint dell'arco\n",
    "\n",
    "Un arco si dice **uscente** ad un vertice se quel vertice è l'**origine** dell'arco\n",
    "\n",
    "Un arco si dice **entrante** ad un vertice se quel vertice è la **destinazione** dell'arco\n",
    "\n",
    "Un gruppo di archi è indicato come una raccolta di essi, in modo che due archi possano avere gli stessi endpoints\n",
    "\n",
    "Questi archi sono chiamati **paralleli**\n",
    "\n",
    "Si dice arco **ciclico** quando gli endpoints coincidono\n",
    "\n",
    "Si dice **grafo semplice** quando non sono presenti archi paralleli o ciclici\n",
    "\n",
    "Il **grado** di un vertice è il numero di archi incidenti al vertice\n",
    "\n",
    "Il **grado di entrata (IN-DEGREE)** è il numero di archi aventi come destinazione il vertice\n",
    "\n",
    "Il **grado di uscita (OUT-DEGREE)** è il numero di archi aventi come origine il vertice"
   ]
  },
  {
   "cell_type": "markdown",
   "id": "846b5b65",
   "metadata": {},
   "source": [
    "## Proposizione #1\n",
    "<a id='prop1'></a>"
   ]
  },
  {
   "cell_type": "markdown",
   "id": "07e05a7c",
   "metadata": {},
   "source": [
    "Se G è un grafo con M archi e un insieme di vertici V si ha che:\n",
    "\n",
    "\\begin{align*}\n",
    "\\sum \\limits _{v in V} deg (V) = 2m\n",
    "\\end{align*}\n"
   ]
  },
  {
   "cell_type": "markdown",
   "id": "3cc3a1f7",
   "metadata": {},
   "source": [
    "### Dimostrazione:"
   ]
  },
  {
   "cell_type": "markdown",
   "id": "1d7c397b",
   "metadata": {},
   "source": [
    "Dati due vertici *U* e *V* collegati da uno e un solo arco\n",
    "\n",
    "\\begin{align*}\n",
    "degree(U) = 1 ⠀ ⠀ ⠀ ⠀ ⠀ degree(V) = 1\n",
    "\\end{align*}\n",
    "\\begin{align*}\n",
    "sum(degree(v)) = degree(U) + degree(V) = 2\n",
    "\\end{align*}\n",
    "\n",
    "\n"
   ]
  },
  {
   "cell_type": "markdown",
   "id": "57d1c46f",
   "metadata": {},
   "source": [
    "## Proposizione #2"
   ]
  },
  {
   "cell_type": "markdown",
   "id": "96b9ae1f",
   "metadata": {},
   "source": [
    "In un grafo orientato: \n",
    "\n",
    "\\begin{align*}\n",
    "in-degree = out-degree = M\n",
    "\\end{align*}"
   ]
  },
  {
   "cell_type": "markdown",
   "id": "f50c8928",
   "metadata": {},
   "source": [
    "### Dimostrazione:"
   ]
  },
  {
   "cell_type": "markdown",
   "id": "36f77b91",
   "metadata": {},
   "source": [
    "Ogni arco del grafo sarà:\n",
    "- Entrante in un nodo\n",
    "- Uscente in un nodo\n",
    "\n",
    "Per tanto *in-degree = out-degree* e coincidono con il numero di archi del grafo M"
   ]
  },
  {
   "cell_type": "markdown",
   "id": "7a284e4f",
   "metadata": {},
   "source": [
    " "
   ]
  },
  {
   "cell_type": "markdown",
   "id": "dbaf1deb",
   "metadata": {},
   "source": [
    "## PATH"
   ]
  },
  {
   "cell_type": "markdown",
   "id": "00f5fc3d",
   "metadata": {},
   "source": [
    "Si dice **Path** una sequenza di vertici e archi tale che ogni arco sia incidente al nodo predecessore e nodo successore\n",
    "\n",
    "Se il vertice finale e iniziale coincidono il path si dice **ciclo**\n",
    "\n",
    "Un ciclo deve includere quindi almeno un vertice\n",
    "\n",
    "Un path si dice **semplice** se ogni vertice viene percorso uno e una sola volta\n",
    "\n",
    "Un path orientato presenta tutti archi orientati i quali devono essere attraversati nella direzione prevista\n",
    "\n",
    "Dati due vertici U e V, si dice che U raggiunge V se esiste un cammino orientato da U a V\n",
    "\n",
    "Se il cammino non è orientato U raggiunge V e V raggiunge U simmetricamente\n",
    "\n",
    "Un grafo si dice **connesso** se presi due U e V qualsiasi esiste almeno un percorso tra loro\n",
    "\n",
    "Un grafo si dice **fortemente connesso** se orientato e presi due vertici qualsiasi U e V entrambi si raggiungono a vicenda"
   ]
  },
  {
   "cell_type": "markdown",
   "id": "4765c68e",
   "metadata": {},
   "source": [
    " "
   ]
  },
  {
   "cell_type": "markdown",
   "id": "28e09016",
   "metadata": {},
   "source": [
    "## RELAZIONE ARCHI-VERTICI"
   ]
  },
  {
   "cell_type": "markdown",
   "id": "bc06d5d8",
   "metadata": {},
   "source": [
    "#### Relazione #1"
   ]
  },
  {
   "cell_type": "markdown",
   "id": "e346db83",
   "metadata": {},
   "source": [
    "Sia G un grafo semplice e non orientato avente N vertici ed M archi, allora:\n",
    "    \n",
    "\\begin{align*}\n",
    "m <= n(n-1)/2\n",
    "\\end{align*}"
   ]
  },
  {
   "cell_type": "markdown",
   "id": "641e1f87",
   "metadata": {},
   "source": [
    "#### Motivazione:"
   ]
  },
  {
   "cell_type": "markdown",
   "id": "4183e56d",
   "metadata": {},
   "source": [
    "In quanto grafo semplice non ci sono archi aventi gli stessi endpoints o cicli\n",
    "\n",
    "Il grado massimo di un vertice è quindi *n-1*\n",
    "\n",
    "Segue che per la [proposizione #1](#prop1):\n",
    "\\begin{align*}\n",
    "2m <= n*(n-1)\n",
    "\\end{align*}\n",
    "\n",
    "e quindi\n",
    "\\begin{align*}\n",
    "m <= n*(n-1)/2\n",
    "\\end{align*}"
   ]
  },
  {
   "cell_type": "markdown",
   "id": "8389030d",
   "metadata": {},
   "source": [
    "#### Relazione #2"
   ]
  },
  {
   "cell_type": "markdown",
   "id": "e9ce8d43",
   "metadata": {},
   "source": [
    "Sia G un grafo semplice e questa volta orientato, allora:\n",
    "\n",
    "\\begin{align*}\n",
    "m <= n*(n-1)\n",
    "\\end{align*}"
   ]
  },
  {
   "cell_type": "markdown",
   "id": "0690e7c4",
   "metadata": {},
   "source": [
    "#### Motivazione:"
   ]
  },
  {
   "cell_type": "markdown",
   "id": "7705e186",
   "metadata": {},
   "source": [
    "Essendo anche in questo caso il grado massimo di un vertice n-1\n",
    "\n",
    "La stessa [proposizione #2](#prop2) dice che:\n",
    "\\begin{align*}\n",
    "m <= n*(n-1)\n",
    "\\end{align*}"
   ]
  },
  {
   "cell_type": "markdown",
   "id": "920e51f9",
   "metadata": {},
   "source": [
    " "
   ]
  },
  {
   "cell_type": "markdown",
   "id": "0636fb42",
   "metadata": {},
   "source": [
    "## SOTTOGRAFI"
   ]
  },
  {
   "cell_type": "markdown",
   "id": "717b5cfb",
   "metadata": {},
   "source": [
    "Un sottografo di un grafo G è a sua volta un grafo i cui vertici e archi sono sottoinsiemi dei vertici e archi di G\n",
    "\n",
    "Si dice sottografo di spanning se contiene tutti i vertici di G (ma non tutti gli archi)\n",
    "\n",
    "Se G non connesso, i sottografi massimali connessi sono detti componenti connesse di G"
   ]
  },
  {
   "cell_type": "markdown",
   "id": "969c547f",
   "metadata": {},
   "source": [
    " "
   ]
  },
  {
   "cell_type": "markdown",
   "id": "a18a5371",
   "metadata": {},
   "source": [
    "## Implementazioni grafi"
   ]
  },
  {
   "cell_type": "markdown",
   "id": "7360e764",
   "metadata": {},
   "source": [
    "Dato il grafo\n",
    "<img src='media/graph.jpeg' alt='grafo'>"
   ]
  },
  {
   "cell_type": "markdown",
   "id": "889798b7",
   "metadata": {},
   "source": [
    "### Lista di archi"
   ]
  },
  {
   "cell_type": "code",
   "execution_count": 1,
   "id": "c5735e3e",
   "metadata": {},
   "outputs": [],
   "source": [
    "graph = [(1,2),(1,4),(1,5),(2,3),(2,5),(2,6),(3,6),(4,5),(4,7),(5,7)]"
   ]
  },
  {
   "cell_type": "markdown",
   "id": "f767aaa3",
   "metadata": {},
   "source": [
    "Composto da una lista di tuple, dove ogni tupla contiene i due endpoints"
   ]
  },
  {
   "cell_type": "markdown",
   "id": "0adea7a8",
   "metadata": {},
   "source": [
    "### Liste di adiacenza"
   ]
  },
  {
   "cell_type": "code",
   "execution_count": 2,
   "id": "1a12d512",
   "metadata": {},
   "outputs": [],
   "source": [
    "graph = graph = {1:[2,4,5,6],\n",
    "                 2:[1,5,6],\n",
    "                 3:[2,6],\n",
    "                 4:[1,5,7],\n",
    "                 5:[1,2,4,7],\n",
    "                 6:[1,2,3],\n",
    "                 7:[4,5]}"
   ]
  },
  {
   "cell_type": "markdown",
   "id": "9062a371",
   "metadata": {},
   "source": [
    "Composto da un dizionario, dove ogni *key* corrisponde ad un nodo ed ogni *value* corrisponde ad una lista con tutti i nodi adiacenti al nodo key\n",
    "\n",
    "Usato principalmente per grafi sparsi dove\n",
    "\\begin{align*}\n",
    "|E| << |V|^2\n",
    "\\end{align*}\n",
    "Con:\n",
    "\n",
    "    -|E|: Numero di archi\n",
    "    -|V|: Numero di vertici\n",
    "    \n",
    "In quanto il costo in termini di memoria è:\n",
    "\\begin{align*}\n",
    "O(V+E)\n",
    "\\end{align*}"
   ]
  },
  {
   "cell_type": "markdown",
   "id": "45e6add1",
   "metadata": {},
   "source": [
    "### Matrici di adiacenza"
   ]
  },
  {
   "cell_type": "code",
   "execution_count": 3,
   "id": "b4f312f7",
   "metadata": {},
   "outputs": [],
   "source": [
    "graph = [[0,1,0,1,1,1,0], #1 = connection\n",
    "         [1,0,1,0,1,1,0], #0 = no connection\n",
    "         [0,1,0,0,0,1,0,],\n",
    "         [1,0,0,0,1,0,1],\n",
    "         [1,1,0,1,0,0,1],\n",
    "         [1,1,1,0,0,0,0],\n",
    "         [0,0,0,1,1,0,0]]"
   ]
  },
  {
   "cell_type": "markdown",
   "id": "e4631f11",
   "metadata": {},
   "source": [
    "Risulta più efficiente delle liste di adiacenza in termini computazionali in quanto verificare la presenza di un arco richiede un costo di:\n",
    "\\begin{align*}\n",
    "O(1)\n",
    "\\end{align*}\n",
    "\n",
    "tuttavia il costo in termini di memoria è:\n",
    "\\begin{align*}\n",
    "O(V^2)\n",
    "\\end{align*}"
   ]
  },
  {
   "cell_type": "markdown",
   "id": "7771d319",
   "metadata": {},
   "source": [
    "# *GRAFI PONDERATI*"
   ]
  },
  {
   "cell_type": "markdown",
   "id": "bdcd42b3",
   "metadata": {},
   "source": [
    "Un grafo ponderato è un grafo dove ogni arco *e(u,v)* presenta un etichetta *w(e)* indicante il peso di quell'arco\n",
    "\n",
    "Posso definire il peso di un certo percorso P come la somma di tutti gli archi di P\n"
   ]
  },
  {
   "cell_type": "markdown",
   "id": "a7d6a6af",
   "metadata": {},
   "source": [
    "# CAMMINI MINIMI"
   ]
  },
  {
   "cell_type": "markdown",
   "id": "aaf778eb",
   "metadata": {},
   "source": [
    "In un grafo non pesato, per trovare il cammino minimo tra un nodo START e un nodo END può essere usata la Visita in Ampiezza\n",
    "\n",
    "In un grafo pesato questo cambia, in quanto, a seconda del peso, potrebbe essere più conveniente percorrere più archi (più leggeri) piuttosto di un solo arco (più pesante)"
   ]
  },
  {
   "cell_type": "markdown",
   "id": "f413c785",
   "metadata": {},
   "source": [
    "## Algoritmo di Dijkstra"
   ]
  },
  {
   "cell_type": "markdown",
   "id": "1c27e6ff",
   "metadata": {},
   "source": [
    "Per risolvere il problema del cammino minimo in un grafo pesato possiamo usare l'algoritmo di Dijkstra\n",
    "\n",
    "Questo applica il metodo **greedy** dove ad ogni iterazione l'algoritmo si occupa di valutare la scelta migliore tra quelle disponibili\n"
   ]
  },
  {
   "cell_type": "markdown",
   "id": "7d1a02fe",
   "metadata": {},
   "source": [
    "### Principio di funzionamento"
   ]
  },
  {
   "cell_type": "markdown",
   "id": "d8f4a5a9",
   "metadata": {},
   "source": [
    "Ogni vertice *v* presenta un'etichetta *D[v]* che serve per memorizzare il minore peso del cammino per arrivare da s a v\n",
    "\n",
    "inizialmente D[s] = 0 e D[v] = -1 in quanto sconosciuta\n",
    "\n",
    "L'algoritmo utilizza poi un insieme di vertici C detto nuvola di vertici\n",
    "\n",
    "Per ogni iterazione viene selezionato un nuovo vertice *u* non presente nella nuvola con la più piccola etichetta D[u], *u* viene poi inserito in C\n",
    "\n",
    "Ogni volta che il nodo u viene inserito in C andranno aggiornate tutte le etichette dei nodi al di fuori di C *(processo chiamato rilassamento)*\n",
    "\n",
    "In particolare:\n",
    "    \n",
    "- se **D[u] + w(u,v) < D[v]** allora **D[v] = D[u] + w(u,v)**"
   ]
  },
  {
   "cell_type": "markdown",
   "id": "b466dc73",
   "metadata": {},
   "source": [
    "## Implementazione"
   ]
  },
  {
   "cell_type": "markdown",
   "id": "9cb9b869",
   "metadata": {},
   "source": [
    "Il codice utilizza una particolare struttura dati chiamata coda di priorità, dove l'ordine degli elementi dipende esclusivamente dal valore della priorità a loro data"
   ]
  },
  {
   "cell_type": "code",
   "execution_count": 4,
   "id": "deece75a",
   "metadata": {},
   "outputs": [],
   "source": [
    "def minpop(q):\n",
    "    dmin, nmin = q[0]\n",
    "    for d,n in q:\n",
    "        if d < dmin:\n",
    "            dmin, nmin = d, n\n",
    "    q.remove((dmin, nmin))\n",
    "    return dmin, nmin"
   ]
  },
  {
   "cell_type": "code",
   "execution_count": 5,
   "id": "f4441b01",
   "metadata": {},
   "outputs": [],
   "source": [
    "def dijkstra(graph, start):\n",
    "\n",
    "    # inizializzo il dizionario D\n",
    "    d = {v:None for v in graph}\n",
    "    d[start] = 0\n",
    "    \n",
    "    \n",
    "    # uso una coda di priorità per estrarre i nodi\n",
    "    # la priorità sarà l'etichetta d[v]\n",
    "    pqueue = [(d[start], start)]\n",
    "\n",
    "    while pqueue:\n",
    "        print('La coda è:',pqueue)\n",
    "        current_dist, current_v = minpop(pqueue)\n",
    "        print('Estraggo',current_v, 'con distanza', current_dist)\n",
    "        # scorro tutti i vicini\n",
    "        for adjnode in graph[current_v]:\n",
    "            print('\\tControllo la distanza del nodo', adjnode[0])\n",
    "            neighbor = adjnode[0]\n",
    "            weight = adjnode[1]\n",
    "            new_distance = current_dist + weight\n",
    "            print('\\tLa nuova distanza è', new_distance)\n",
    "            print('\\tLa vecchia distanza', d[neighbor])\n",
    "            if d[neighbor] is None or new_distance < d[neighbor]:\n",
    "                d[neighbor] = new_distance\n",
    "                print('\\tLa distanza aggiornata è', d[neighbor])\n",
    "                pqueue.append((new_distance, neighbor))\n",
    "                print('\\tAggiunto {} in coda'.format(neighbor))\n",
    "            print('\\n')\n",
    "    \n",
    "    return d\n",
    "\n"
   ]
  },
  {
   "cell_type": "code",
   "execution_count": 6,
   "id": "c5fd2eb3",
   "metadata": {},
   "outputs": [],
   "source": [
    "mygraph = {\n",
    "    1: [[2,2],[3,5],[6,8]],\n",
    "    2: [[1,2],[4,1]],\n",
    "    3: [[1,5],[4,1],[5,2]],\n",
    "    4: [[2,1],[3,1],[6,5]],\n",
    "    5: [[3,2],[6,1]],\n",
    "    6: [[1,8],[4,5],[5,1]]\n",
    "}"
   ]
  },
  {
   "cell_type": "code",
   "execution_count": 7,
   "id": "9751d5ee",
   "metadata": {},
   "outputs": [
    {
     "name": "stdout",
     "output_type": "stream",
     "text": [
      "La coda è: [(0, 1)]\n",
      "Estraggo 1 con distanza 0\n",
      "\tControllo la distanza del nodo 2\n",
      "\tLa nuova distanza è 2\n",
      "\tLa vecchia distanza None\n",
      "\tLa distanza aggiornata è 2\n",
      "\tAggiunto 2 in coda\n",
      "\n",
      "\n",
      "\tControllo la distanza del nodo 3\n",
      "\tLa nuova distanza è 5\n",
      "\tLa vecchia distanza None\n",
      "\tLa distanza aggiornata è 5\n",
      "\tAggiunto 3 in coda\n",
      "\n",
      "\n",
      "\tControllo la distanza del nodo 6\n",
      "\tLa nuova distanza è 8\n",
      "\tLa vecchia distanza None\n",
      "\tLa distanza aggiornata è 8\n",
      "\tAggiunto 6 in coda\n",
      "\n",
      "\n",
      "La coda è: [(2, 2), (5, 3), (8, 6)]\n",
      "Estraggo 2 con distanza 2\n",
      "\tControllo la distanza del nodo 1\n",
      "\tLa nuova distanza è 4\n",
      "\tLa vecchia distanza 0\n",
      "\n",
      "\n",
      "\tControllo la distanza del nodo 4\n",
      "\tLa nuova distanza è 3\n",
      "\tLa vecchia distanza None\n",
      "\tLa distanza aggiornata è 3\n",
      "\tAggiunto 4 in coda\n",
      "\n",
      "\n",
      "La coda è: [(5, 3), (8, 6), (3, 4)]\n",
      "Estraggo 4 con distanza 3\n",
      "\tControllo la distanza del nodo 2\n",
      "\tLa nuova distanza è 4\n",
      "\tLa vecchia distanza 2\n",
      "\n",
      "\n",
      "\tControllo la distanza del nodo 3\n",
      "\tLa nuova distanza è 4\n",
      "\tLa vecchia distanza 5\n",
      "\tLa distanza aggiornata è 4\n",
      "\tAggiunto 3 in coda\n",
      "\n",
      "\n",
      "\tControllo la distanza del nodo 6\n",
      "\tLa nuova distanza è 8\n",
      "\tLa vecchia distanza 8\n",
      "\n",
      "\n",
      "La coda è: [(5, 3), (8, 6), (4, 3)]\n",
      "Estraggo 3 con distanza 4\n",
      "\tControllo la distanza del nodo 1\n",
      "\tLa nuova distanza è 9\n",
      "\tLa vecchia distanza 0\n",
      "\n",
      "\n",
      "\tControllo la distanza del nodo 4\n",
      "\tLa nuova distanza è 5\n",
      "\tLa vecchia distanza 3\n",
      "\n",
      "\n",
      "\tControllo la distanza del nodo 5\n",
      "\tLa nuova distanza è 6\n",
      "\tLa vecchia distanza None\n",
      "\tLa distanza aggiornata è 6\n",
      "\tAggiunto 5 in coda\n",
      "\n",
      "\n",
      "La coda è: [(5, 3), (8, 6), (6, 5)]\n",
      "Estraggo 3 con distanza 5\n",
      "\tControllo la distanza del nodo 1\n",
      "\tLa nuova distanza è 10\n",
      "\tLa vecchia distanza 0\n",
      "\n",
      "\n",
      "\tControllo la distanza del nodo 4\n",
      "\tLa nuova distanza è 6\n",
      "\tLa vecchia distanza 3\n",
      "\n",
      "\n",
      "\tControllo la distanza del nodo 5\n",
      "\tLa nuova distanza è 7\n",
      "\tLa vecchia distanza 6\n",
      "\n",
      "\n",
      "La coda è: [(8, 6), (6, 5)]\n",
      "Estraggo 5 con distanza 6\n",
      "\tControllo la distanza del nodo 3\n",
      "\tLa nuova distanza è 8\n",
      "\tLa vecchia distanza 4\n",
      "\n",
      "\n",
      "\tControllo la distanza del nodo 6\n",
      "\tLa nuova distanza è 7\n",
      "\tLa vecchia distanza 8\n",
      "\tLa distanza aggiornata è 7\n",
      "\tAggiunto 6 in coda\n",
      "\n",
      "\n",
      "La coda è: [(8, 6), (7, 6)]\n",
      "Estraggo 6 con distanza 7\n",
      "\tControllo la distanza del nodo 1\n",
      "\tLa nuova distanza è 15\n",
      "\tLa vecchia distanza 0\n",
      "\n",
      "\n",
      "\tControllo la distanza del nodo 4\n",
      "\tLa nuova distanza è 12\n",
      "\tLa vecchia distanza 3\n",
      "\n",
      "\n",
      "\tControllo la distanza del nodo 5\n",
      "\tLa nuova distanza è 8\n",
      "\tLa vecchia distanza 6\n",
      "\n",
      "\n",
      "La coda è: [(8, 6)]\n",
      "Estraggo 6 con distanza 8\n",
      "\tControllo la distanza del nodo 1\n",
      "\tLa nuova distanza è 16\n",
      "\tLa vecchia distanza 0\n",
      "\n",
      "\n",
      "\tControllo la distanza del nodo 4\n",
      "\tLa nuova distanza è 13\n",
      "\tLa vecchia distanza 3\n",
      "\n",
      "\n",
      "\tControllo la distanza del nodo 5\n",
      "\tLa nuova distanza è 9\n",
      "\tLa vecchia distanza 6\n",
      "\n",
      "\n",
      "{1: 0, 2: 2, 3: 4, 4: 3, 5: 6, 6: 7}\n"
     ]
    }
   ],
   "source": [
    "print(dijkstra(mygraph,1))"
   ]
  },
  {
   "cell_type": "markdown",
   "id": "0ed0a437",
   "metadata": {},
   "source": [
    "# Albero di Connessione minimo"
   ]
  },
  {
   "cell_type": "markdown",
   "id": "b7bb92ba",
   "metadata": {},
   "source": [
    "Alle volte è utile trovare un albero di connessione che connette tutti i nodi di un grafo in modo tale che il peso dell'albero sia minimo (problema del Minimo Albero di Connessione o anche Minimum Spanning Tree"
   ]
  },
  {
   "cell_type": "markdown",
   "id": "f6c54725",
   "metadata": {},
   "source": [
    "### Preposizione #1"
   ]
  },
  {
   "cell_type": "markdown",
   "id": "7e195122",
   "metadata": {},
   "source": [
    "Dati due sotto-insiemi di vertici detti V1 e V2\n",
    "\n",
    "e sia *e* un arco del grafo G con peso minimo avente i due endpoints in V1 e V2 \n",
    "\n",
    "Esisterà un albero di copertura minimo T avente e come uno dei suoi archi"
   ]
  },
  {
   "cell_type": "markdown",
   "id": "20eed204",
   "metadata": {},
   "source": [
    "# Algoritmo di Prim-Jarnik"
   ]
  },
  {
   "cell_type": "markdown",
   "id": "d01f350a",
   "metadata": {},
   "source": [
    "L'idea dell'algoritmo è simile a quello di Dijkstra, viene infatti definita una nuvola di vertici che si espande per ogni iterazione\n",
    "\n",
    "Ad ogni iterazione viene preso l'arco di peso minimo che collega un vertice interno alla nuvola con un vertice esterno\n",
    "\n",
    "Il vertice esterno verrà quindi inserito nella nuvola e si passerà all'iterazione successiva\n",
    "\n",
    "Anche in questo caso verrà mantenuta un'etichetta D[v]"
   ]
  },
  {
   "cell_type": "code",
   "execution_count": 8,
   "id": "36d5df86",
   "metadata": {},
   "outputs": [],
   "source": [
    "#Nuova implementazione di minpop\n",
    "\n",
    "def minpop(q):\n",
    "    wmin, umin, vmin = q[0]\n",
    "    for w,u,v in q:\n",
    "        if w < wmin:\n",
    "            wmin, umin, vmin = w, u, v\n",
    "    q.remove((wmin, umin, vmin))\n",
    "    return wmin, umin, vmin"
   ]
  },
  {
   "cell_type": "code",
   "execution_count": 9,
   "id": "90aa08b9",
   "metadata": {},
   "outputs": [],
   "source": [
    "def prim_jarnik(graph, start):\n",
    "    \n",
    "    # MST è il dizionario contenente il Minimum Spanning Tree\n",
    "    # Cloud è invece la nuvola di vertici\n",
    "    # edge_counter conta gli archi inseriti\n",
    "    mst = dict()\n",
    "    cloud = {start}\n",
    "    edge_counter = 0\n",
    "    # Tutti i vertici del grafo devono essere considerati\n",
    "    while len(cloud) != len(graph):\n",
    "        \n",
    "        print('Vertici in cloud:',cloud)\n",
    "        # Lista contenente tutti gli archi da considerare \n",
    "        # con i relativi pesi\n",
    "        cross = []\n",
    "        \n",
    "        # Riempio la struttura cross con tutti gli archi da valutare\n",
    "        for u in cloud:\n",
    "            for v in graph:\n",
    "                \n",
    "                # Se k non è in cloud ma nella lista di adiacenza di v\n",
    "                # Aggiungo l'arco negli archi da valutare\n",
    "                if v not in cloud and v in graph[u]:\n",
    "                    cross.append((graph[u][v],u,v))\n",
    "        print('cross contiene gli archi', cross)\n",
    "        # Estraggo il cammino minimo e lo inserisco nel MST\n",
    "        w, u, v = minpop(cross)\n",
    "        print(\"L'arco minimo è: ({}, {}, {})\".format(w,u,v))\n",
    "        mst[edge_counter] = (w, u, v)\n",
    "        \n",
    "        # Aggiungo il nuovo nodo in cloud\n",
    "        # Incremento il contatore degli archi\n",
    "        print('Aggiungo {} in cloud'.format(v))\n",
    "        cloud.add(v)\n",
    "        edge_counter += 1\n",
    "        print('\\n')\n",
    "    \n",
    "    return mst"
   ]
  },
  {
   "cell_type": "code",
   "execution_count": 10,
   "id": "9ab76392",
   "metadata": {},
   "outputs": [],
   "source": [
    "mygraph = {\n",
    "    1: {2:2,3:5,6:8},\n",
    "    2: {1:2,4:1},\n",
    "    3: {1:5,4:1,5:2},\n",
    "    4: {2:1,3:1,6:5},\n",
    "    5: {3:2,6:1},\n",
    "    6: {1:8,4:5,5:1}\n",
    "    }"
   ]
  },
  {
   "cell_type": "code",
   "execution_count": 11,
   "id": "6f77b463",
   "metadata": {},
   "outputs": [
    {
     "name": "stdout",
     "output_type": "stream",
     "text": [
      "Vertici in cloud: {1}\n",
      "cross contiene gli archi [(2, 1, 2), (5, 1, 3), (8, 1, 6)]\n",
      "L'arco minimo è: (2, 1, 2)\n",
      "Aggiungo 2 in cloud\n",
      "\n",
      "\n",
      "Vertici in cloud: {1, 2}\n",
      "cross contiene gli archi [(5, 1, 3), (8, 1, 6), (1, 2, 4)]\n",
      "L'arco minimo è: (1, 2, 4)\n",
      "Aggiungo 4 in cloud\n",
      "\n",
      "\n",
      "Vertici in cloud: {1, 2, 4}\n",
      "cross contiene gli archi [(5, 1, 3), (8, 1, 6), (1, 4, 3), (5, 4, 6)]\n",
      "L'arco minimo è: (1, 4, 3)\n",
      "Aggiungo 3 in cloud\n",
      "\n",
      "\n",
      "Vertici in cloud: {1, 2, 3, 4}\n",
      "cross contiene gli archi [(8, 1, 6), (2, 3, 5), (5, 4, 6)]\n",
      "L'arco minimo è: (2, 3, 5)\n",
      "Aggiungo 5 in cloud\n",
      "\n",
      "\n",
      "Vertici in cloud: {1, 2, 3, 4, 5}\n",
      "cross contiene gli archi [(8, 1, 6), (5, 4, 6), (1, 5, 6)]\n",
      "L'arco minimo è: (1, 5, 6)\n",
      "Aggiungo 6 in cloud\n",
      "\n",
      "\n",
      "{0: (2, 1, 2), 1: (1, 2, 4), 2: (1, 4, 3), 3: (2, 3, 5), 4: (1, 5, 6)}\n"
     ]
    }
   ],
   "source": [
    "print(prim_jarnik(mygraph, 1))"
   ]
  },
  {
   "cell_type": "markdown",
   "id": "bf222199",
   "metadata": {},
   "source": [
    "## Costo computazionale (Prim Jarnik)"
   ]
  },
  {
   "cell_type": "markdown",
   "id": "396226bc",
   "metadata": {},
   "source": [
    "L'algoritmo deve compiere:\n",
    "    \n",
    "    - N inserimenti nella nuvola e quindi N estrazioni dell'arco minimo\n",
    "    - M valutazioni sugli archi\n",
    "\n",
    "Le operazioni sulla coda di priorità vengono effettuate con un con una complessità di O(log(n))\n",
    "\n",
    "Il costo computazionale dell'algoritmo sarà quindi:\n",
    "\n",
    "\\begin{align*}\n",
    "O((m+n)log(n))\n",
    "\\end{align*}"
   ]
  },
  {
   "cell_type": "markdown",
   "id": "747e522a",
   "metadata": {},
   "source": [
    "# Algoritmo di Kruskal"
   ]
  },
  {
   "cell_type": "markdown",
   "id": "a43bf4dd",
   "metadata": {},
   "source": [
    "Il funzionamento dell'algoritmo di Kruskal si basa su una foresta di cluster (cloud)\n",
    "\n",
    "Ogni nodo è infatti un cluster a se\n",
    "\n",
    "L'algoritmo poi gli archi in modo ordinato\n",
    "\n",
    "L'arco *e* minimo che unisce due cluster diversi verrà aggiunto algi archi dell'albero e i due cluster si fonderanno in un unico cluster\n",
    "\n",
    "Se invece l'arco *e* connette due vertici dello stesso cluster, questo verrà scartato \n",
    "\n",
    "Termina quando avremo un unico cluster \n",
    "\n",
    "L'algoritmo sfrutta poi due funzioni di appoggio"
   ]
  },
  {
   "cell_type": "markdown",
   "id": "0f5dd17c",
   "metadata": {},
   "source": [
    "### Find Node\n",
    "Cerca un determinato vertice nella lista delle cloud e torna il cluster contenente il nodo cercato"
   ]
  },
  {
   "cell_type": "code",
   "execution_count": 12,
   "id": "2bdfcda8",
   "metadata": {},
   "outputs": [],
   "source": [
    "def find_node(clouds, node):\n",
    "    \n",
    "    # k è il numero associato alla nuvola\n",
    "    # v è la lista contenente i nodi della nuvola\n",
    "    for k, v in clouds.items():\n",
    "        \n",
    "        # trovato il nodo nella lista v torno il numero della nuvola\n",
    "        if node in v:\n",
    "            return k"
   ]
  },
  {
   "cell_type": "markdown",
   "id": "91ab2896",
   "metadata": {},
   "source": [
    "### Merge Clouds\n",
    "Prende due nuvole ed esegue il merge spostando tutti gli elementi dalla nuvola con numero associato più grande a quella più piccola"
   ]
  },
  {
   "cell_type": "code",
   "execution_count": 13,
   "id": "e47cb781",
   "metadata": {},
   "outputs": [],
   "source": [
    "def merge_clouds(clouds,u,v):\n",
    "    if u<v:\n",
    "        # i nodi vengono spostati da v ad u\n",
    "        for node in clouds[v]:\n",
    "            clouds[u].append(node)\n",
    "            clouds[v] = []\n",
    "    else:\n",
    "        for node in clouds[u]:\n",
    "            clouds[v].append(node)\n",
    "            clouds[u] = []\n",
    "    return clouds"
   ]
  },
  {
   "cell_type": "code",
   "execution_count": 14,
   "id": "69513da7",
   "metadata": {},
   "outputs": [],
   "source": [
    "def kruskal(graph):\n",
    "    \n",
    "    # mst contiene il minimum spanning tree\n",
    "    # edges contiene i vari archi da valutare\n",
    "    # clouds contiene tutti i cluster\n",
    "    # Cloud/Edge counter è un contatore di nuvole/archi\n",
    "    mst, clouds = {}, {}\n",
    "    edges = set()\n",
    "    cloud_counter = 0\n",
    "    edge_counter = 0\n",
    "    \n",
    "    # Inizializzo tutti i cluster\n",
    "    # Ogni cluster è rappresentato da una lista\n",
    "    for node in graph:\n",
    "        clouds[cloud_counter] = [node]\n",
    "        cloud_counter += 1\n",
    "    print(\"clouds iniziale:\", clouds)\n",
    "        \n",
    "    # Inizializzo tutti gli archi\n",
    "    for u in graph.keys():\n",
    "        for v in graph[u]:\n",
    "            w = graph[u][v]\n",
    "            # Se l'arco non è nella struttura edges lo aggiungo\n",
    "            if (w,u,v) not in edges and (w,v,u) not in edges:\n",
    "                edges.add((w,u,v))\n",
    "    print(\"archi inziali:\",edges)\n",
    "    \n",
    "    # Ordino gli archi in ordine crescende\n",
    "    for edge in sorted(edges):\n",
    "        print('valuto',edge)\n",
    "        w, u, v = edge\n",
    "        cloud_u = find_node(clouds, u)\n",
    "        cloud_v = find_node(clouds, v)\n",
    "        \n",
    "        # Se i due nodi appartengono a due nuvole diverse\n",
    "        # eseguo il merge\n",
    "        if cloud_u != cloud_v:\n",
    "            print('\\tpuò essere eseguito il merge')\n",
    "            clouds = merge_clouds(clouds, cloud_u, cloud_v)\n",
    "            mst[edge_counter] = (w, u, v)\n",
    "            edge_counter += 1\n",
    "            \n",
    "    return mst"
   ]
  },
  {
   "cell_type": "code",
   "execution_count": 15,
   "id": "fb7ca338",
   "metadata": {},
   "outputs": [
    {
     "name": "stdout",
     "output_type": "stream",
     "text": [
      "clouds iniziale: {0: [1], 1: [2], 2: [3], 3: [4], 4: [5], 5: [6]}\n",
      "archi inziali: {(8, 1, 6), (1, 3, 4), (2, 3, 5), (1, 5, 6), (2, 1, 2), (5, 4, 6), (5, 1, 3), (1, 2, 4)}\n",
      "valuto (1, 2, 4)\n",
      "\tpuò essere eseguito il merge\n",
      "valuto (1, 3, 4)\n",
      "\tpuò essere eseguito il merge\n",
      "valuto (1, 5, 6)\n",
      "\tpuò essere eseguito il merge\n",
      "valuto (2, 1, 2)\n",
      "\tpuò essere eseguito il merge\n",
      "valuto (2, 3, 5)\n",
      "\tpuò essere eseguito il merge\n",
      "valuto (5, 1, 3)\n",
      "valuto (5, 4, 6)\n",
      "valuto (8, 1, 6)\n",
      "{0: (1, 2, 4), 1: (1, 3, 4), 2: (1, 5, 6), 3: (2, 1, 2), 4: (2, 3, 5)}\n"
     ]
    }
   ],
   "source": [
    "print(kruskal(mygraph))"
   ]
  },
  {
   "cell_type": "markdown",
   "id": "967799ca",
   "metadata": {},
   "source": [
    "## Costo computazionale (Kruskal)\n",
    "L'ordinamento degli archi avviene in O(mlog(n)) tramite l'utilizzo di una coda di priorità\n",
    "\n",
    "Va poi gestita la ricerca dei cluster da fondere che per N vertici avrà un costo di O((n+m)log(n))"
   ]
  },
  {
   "cell_type": "code",
   "execution_count": null,
   "id": "c113c8b0",
   "metadata": {},
   "outputs": [],
   "source": []
  }
 ],
 "metadata": {
  "kernelspec": {
   "display_name": "Python 3 (ipykernel)",
   "language": "python",
   "name": "python3"
  },
  "language_info": {
   "codemirror_mode": {
    "name": "ipython",
    "version": 3
   },
   "file_extension": ".py",
   "mimetype": "text/x-python",
   "name": "python",
   "nbconvert_exporter": "python",
   "pygments_lexer": "ipython3",
   "version": "3.10.4"
  }
 },
 "nbformat": 4,
 "nbformat_minor": 5
}

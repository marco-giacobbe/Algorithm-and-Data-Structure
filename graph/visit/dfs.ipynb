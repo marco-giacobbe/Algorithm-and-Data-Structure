{
 "cells": [
  {
   "cell_type": "markdown",
   "id": "a467add8",
   "metadata": {},
   "source": [
    "# Deep-First Search\n",
    "## (Visita in Profondità)"
   ]
  },
  {
   "cell_type": "markdown",
   "id": "c643a7f6",
   "metadata": {},
   "source": [
    "Dato un nodo START che sarà il punto di partenza\n",
    "\n",
    "Dato un nodo CURRENT che sarà il nodo attualmente visitato\n",
    "\n",
    "  ⠀\n",
    "\n",
    "Se CURRENT è un generico nodo U, andremo a considerare gli archi incidenti ad U\n",
    "\n",
    "Se il nodo V (adiacente ad U) è stato visitato scarto l'arco (U, V)\n",
    "\n",
    "Altrimenti visito V, il quale diventerà il nodo CURRENT\n",
    "\n",
    "VICOLO CIECO: quando ci troviamo su un nodo U e tutti i nodi adiacenti ad U sono stati visitati\n",
    "\n",
    "in questo caso effettuiamo un backtrack per riportarci al nodo precedente ad U\n",
    "\n",
    "Se il nodo precedente ad U è ancora un vicolo cieco andremo al nodo precedente al precedente di U\n",
    "\n",
    "  ⠀\n",
    "\n",
    "L'operazione termina quando il traceback ci porta a START e tutti i nodi adiacenti a START sono stati visitati"
   ]
  },
  {
   "cell_type": "markdown",
   "id": "33658742",
   "metadata": {},
   "source": [
    "# Esecuzione"
   ]
  },
  {
   "cell_type": "markdown",
   "id": "4e154ea1",
   "metadata": {},
   "source": [
    "Per eseguire la visita associamo ad ogni nodo un colore\n",
    "\n",
    "    -0: Bianco (Nodo non visitato)\n",
    "    -1: Grigio (Nodo visitato con lista di adiacenza ancora da visitare)\n",
    "    -2: Nero (Nodo visitato con lista di adiacenza visitata)\n",
    "    ⠀\n",
    "Se il generico nodo U è BIANCO lo visito e lo metto grigio\n",
    "\n",
    "Successivamente scorro tutta la lista di adiacenza e visito tutti i nodi a loro volta bianchi ponendoli GRIGI\n",
    "\n",
    "Finita la lista di adiacenza posso impostare il nodo U NERO in quanto tutti i nodi adiacenti sono stati visitati"
   ]
  },
  {
   "cell_type": "markdown",
   "id": "987acc55",
   "metadata": {},
   "source": [
    "# Costo computazionale"
   ]
  },
  {
   "cell_type": "markdown",
   "id": "2b9ebaa6",
   "metadata": {},
   "source": [
    "L'algoritmo di visita dev'essere chiamato al massimo una volta per ogni vertice\n",
    "\n",
    "Ogni arco viene esamitano massimo due volte *((U, V) and (V, U))* nel caso di un grafo non orientato\n",
    "\n",
    "Se N=numero vertici e Ns=numero vertici raggiungibili\n",
    "Se M=numero di archi e Ms=numero di archi raggiungibili \n",
    "\n",
    "Si ha che *Ns <= N* e che *Ms <= M*\n",
    "\n",
    "La nostra struttura dati ci permette di avere:\n",
    "\n",
    "    -Accesso agli archi incidenti in O(deg(v)) dove deg(v) è il grado di v e quindi il numero di nodi incidenti\n",
    "    -Traceback all'elemento precedente in O(1)\n",
    "    -Verifica dello stato di un vertice in O(1)\n",
    "\n",
    "Fatte queste premesse la complessità computazionale dell'algoritmo DFS è: O(n+m) e permette di:\n",
    "\n",
    "    - Calcolare il percorso tra due vertici\n",
    "    - Verificare se il grafo G è connesso\n",
    "    - Calcolare l'albero di connessione minimo di G (se connesso)\n",
    "    - Calcolare le componenti connesse di G\n",
    "    - Verificare che G non abbia cicli"
   ]
  },
  {
   "cell_type": "markdown",
   "id": "3e0ff645",
   "metadata": {},
   "source": [
    "# *DFS ITERATIVO*"
   ]
  },
  {
   "cell_type": "markdown",
   "id": "7a82b6ba",
   "metadata": {},
   "source": [
    "L'algoritmo prende in ingresso il grafo come liste di adiacenza e il nodo *start* dal quale partite\n",
    "\n",
    "Utilizza due liste:\n",
    "\n",
    "    - Visited (contiene tutti i nodi in ordine di visita)\n",
    "    - Stack (contiene i nodi da visitare in ordine)\n",
    "\n",
    "Quando viene visitato un nodo, questo verrà aggiunto in visited\n",
    "\n",
    "Successivamente si scorre tutta la lista di adiacenza per aggiungere nello stack i nodi non ancora visitati\n",
    "\n",
    "La politica **LIFO** (Last In, First Out) dello stack siamo in grado di visitare gli ultimi nodi aggiunti allo stack evitando di cadere nel bfs"
   ]
  },
  {
   "cell_type": "code",
   "execution_count": 1,
   "id": "08f67c63",
   "metadata": {},
   "outputs": [],
   "source": [
    "def iterative_dfs(graph, start):\n",
    "\n",
    "    # visited list contains nodes in order of visit\n",
    "    # stack is used to contains and pick nodes to visit\n",
    "    visited, stack = [], []\n",
    "    stack.append(start)\n",
    "    \n",
    "    # while stack is empty means that all nodes have been visited\n",
    "    while stack:\n",
    "        node = stack.pop()\n",
    "        # Check if node wasn't visited\n",
    "        if node not in visited:\n",
    "            # Node will be visited\n",
    "            visited.append(node)\n",
    "            for adjnode in graph[node]:\n",
    "                # If adjacent node wasn't visited is added to stack \n",
    "                if adjnode not in visited:\n",
    "                    stack.append(adjnode)\n",
    "    return visited"
   ]
  },
  {
   "cell_type": "code",
   "execution_count": 2,
   "id": "4d9c43ff",
   "metadata": {},
   "outputs": [
    {
     "name": "stdout",
     "output_type": "stream",
     "text": [
      "[1, 6, 3, 2, 5, 7, 4]\n"
     ]
    }
   ],
   "source": [
    "graph = {1:[2,4,5,6], 2:[1,5,6], 3:[2,6], 4:[1,5,7], 5:[1,2,4,7], 6:[1,2,3], 7:[4,5]}\n",
    "print(iterative_dfs(graph,1))"
   ]
  },
  {
   "cell_type": "markdown",
   "id": "be0e7159",
   "metadata": {},
   "source": [
    "# *DFS RICORSIVO*"
   ]
  },
  {
   "cell_type": "markdown",
   "id": "ef49dc78",
   "metadata": {},
   "source": [
    "L'algoritmo prende sempre in input il grafo e il nodo *start*\n",
    "\n",
    "Anzichè lo stack si usa il dizionario *exploration* avente come *key* il nome del nodo e come *value* il colore associato:\n",
    "\n",
    "    - 0: Bianco\n",
    "    - 1: Grigio\n",
    "    - 2: Nero\n",
    "\n",
    "Successivamente si passano *graph*, *exploration*, *visited* e *start* alla funzione ausiliare [dfs_visit](#dfsv) che si occupa della visita"
   ]
  },
  {
   "cell_type": "code",
   "execution_count": 3,
   "id": "77959ea1",
   "metadata": {},
   "outputs": [],
   "source": [
    "def dfs(graph, start):\n",
    "    exploration = {}\n",
    "    visited = []\n",
    "    # Set all colour to white\n",
    "    for node in graph:\n",
    "        exploration[node] = 0\n",
    "    \n",
    "    # Call visit function with start (start recursive part)\n",
    "    dfs_visit(graph, exploration, visited, start)\n",
    "\n",
    "    return exploration"
   ]
  },
  {
   "cell_type": "markdown",
   "id": "e49947bb",
   "metadata": {},
   "source": [
    "La funzione *dfs_visit* prende in input alcuni metadati e si occupa della visita dei nodi\n",
    "\n",
    "Il nodo da visitare viene colorato di grigio e viene aggiunto a visited, successivamente, viene vista la lista di adiacenza e viene chiamato ricorsivamente l'algoritmo su ogni nodo della lista di adiacenza colorato di bianco\n",
    "\n",
    "Dopo aver controllato tutta la vista di adiacenza il nodo viene colorato di nero\n",
    "\n"
   ]
  },
  {
   "cell_type": "code",
   "execution_count": 4,
   "id": "8d73efb9",
   "metadata": {},
   "outputs": [],
   "source": [
    "def dfs_visit(graph, exploration, visited, node):\n",
    "    # Visit node and set its colour to grey\n",
    "    exploration[node] = 1\n",
    "    visited.append(node)\n",
    "\n",
    "    for adjnode in graph[node]:\n",
    "        # If adjnode is white, it must be visited\n",
    "        if not exploration[adjnode]:\n",
    "            dfs_visit(graph, exploration, visited, adjnode)\n",
    "\n",
    "    # When all adjacent nodes are visited, colour of node must be black\n",
    "    exploration[node] = 2"
   ]
  },
  {
   "cell_type": "code",
   "execution_count": 5,
   "id": "6cbd9f19",
   "metadata": {},
   "outputs": [
    {
     "name": "stdout",
     "output_type": "stream",
     "text": [
      "[1, 6, 3, 2, 5, 7, 4]\n"
     ]
    }
   ],
   "source": [
    "graph = {1:[2,4,5,6], 2:[1,5,6], 3:[2,6], 4:[1,5,7], 5:[1,2,4,7], 6:[1,2,3], 7:[4,5]}\n",
    "print(iterative_dfs(graph,1))"
   ]
  }
 ],
 "metadata": {
  "kernelspec": {
   "display_name": "Python 3 (ipykernel)",
   "language": "python",
   "name": "python3"
  },
  "language_info": {
   "codemirror_mode": {
    "name": "ipython",
    "version": 3
   },
   "file_extension": ".py",
   "mimetype": "text/x-python",
   "name": "python",
   "nbconvert_exporter": "python",
   "pygments_lexer": "ipython3",
   "version": "3.10.4"
  }
 },
 "nbformat": 4,
 "nbformat_minor": 5
}

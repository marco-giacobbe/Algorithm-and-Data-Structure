{
 "cells": [
  {
   "cell_type": "markdown",
   "id": "80eeb002",
   "metadata": {},
   "source": [
    "# Breadth-First Search\n",
    "## (Visita in Ampiezza)"
   ]
  },
  {
   "cell_type": "markdown",
   "id": "1d9b350e",
   "metadata": {},
   "source": [
    "La visita in ampiezza avviene per livelli nel seguente ordine:\n",
    "    - Visita di START\n",
    "    - Visita dei nodi a distanza 1 da START\n",
    "    - Visita dei nodi a distanza 2 da START\n",
    "\n",
    "L'algoritmo quindi deve visitare tutti i nodi al livello K+1 da START prima di passare ai nodi a distanza K+1\n",
    "La ricerca termina quando non vengono trovati nodi nel livello N+1 dove N è l'ultimo livello visitato"
   ]
  },
  {
   "cell_type": "markdown",
   "id": "de7f9c5c",
   "metadata": {},
   "source": [
    "# Esecuzione"
   ]
  },
  {
   "cell_type": "markdown",
   "id": "d0bd6797",
   "metadata": {},
   "source": [
    "Per l'attraversamento associamo ad ogni nodo uno stato rappresentato da un colore\n",
    "\n",
    "0: Bianco (Nodo non visitato)\n",
    "1: Grigio (Nodo visitato con nodi adiacenti da visitare)\n",
    "2: Nero (Nodo visitato con nodi adiacenti visitati)\n",
    "\n",
    "Se il generico nodo U è BIANCO lo visito e lo metto grigio\n",
    "\n",
    "Successivamente scorro tutta la lista di adiacenza e aggiungo i nodi non visitati ai nodi da visitare\n",
    "\n",
    "Finita la lista di adiacenza posso impostare il nodo U NERO in quanto tutti i nodi adiacenti sono stati visitati"
   ]
  },
  {
   "cell_type": "markdown",
   "id": "57ac77aa",
   "metadata": {},
   "source": [
    "# Costo computazionale"
   ]
  },
  {
   "cell_type": "markdown",
   "id": "45d83483",
   "metadata": {},
   "source": [
    "Essendo che l'inserimento e il pop nella coda avviene in un tempo O(1)\n",
    "\n",
    "Per iterare per tutti i nodi del grafo dovremmo fare sostenere un costo O(n)\n",
    "\n",
    "Inoltre dovremmo scorrere tutte le liste di adiacenza, per farlo il costo computazionale sarà di O(m)\n",
    "\n",
    "La visita in ampiezza dunque sarà svolta in un tempo O(n + m)"
   ]
  },
  {
   "cell_type": "markdown",
   "id": "a835e2fe",
   "metadata": {},
   "source": [
    "# Proprietà"
   ]
  },
  {
   "cell_type": "markdown",
   "id": "ac28e7ac",
   "metadata": {},
   "source": [
    "L'attraversamento visita tutti i nodi del sottografo connesso al nodo di partenza\n",
    "\n",
    "E ci permette, dato un nodo START e un nodo END,di sapere il cammino minimo tra essi, infatti:\n",
    "\n",
    "per ogni vertice n al livello *i* da START, il percorso formatosi tra il nodo di partenza e il nodo di arrivo avrà esattamente *i* archi"
   ]
  },
  {
   "cell_type": "markdown",
   "id": "9d1d0825",
   "metadata": {},
   "source": [
    "# *BFS ITERATIVO*"
   ]
  },
  {
   "cell_type": "code",
   "execution_count": 8,
   "id": "cc930626",
   "metadata": {},
   "outputs": [],
   "source": [
    "def iterative_bfs(graph, start):\n",
    "    \n",
    "    # visited list contains nodes in order of visit\n",
    "    # stack is used to contains and pick nodes to visit\n",
    "    visited, queue = [], []\n",
    "    queue.append(start)\n",
    "    \n",
    "    # while queue is empty means that all nodes have been visited\n",
    "    while queue:\n",
    "        node = queue.pop(0)\n",
    "        # check if node wasn't visited\n",
    "        if node not in visited:\n",
    "            visited.append(node)\n",
    "            \n",
    "            # adjnode must be added in queue but not visited\n",
    "            for adjnode in graph[node]:\n",
    "                queue.append(adjnode)\n",
    "    \n",
    "    return visited\n",
    "                \n",
    "            \n",
    "    "
   ]
  },
  {
   "cell_type": "code",
   "execution_count": 9,
   "id": "2853995f",
   "metadata": {},
   "outputs": [
    {
     "name": "stdout",
     "output_type": "stream",
     "text": [
      "[1, 2, 4, 5, 6, 7, 3]\n"
     ]
    }
   ],
   "source": [
    "graph = {1:[2,4,5,6], 2:[1,5,6], 3:[2,6], 4:[1,5,7], 5:[1,2,4,7], 6:[1,2,3], 7:[4,5]}\n",
    "print(iterative_bfs(graph,1))"
   ]
  }
 ],
 "metadata": {
  "kernelspec": {
   "display_name": "Python 3 (ipykernel)",
   "language": "python",
   "name": "python3"
  },
  "language_info": {
   "codemirror_mode": {
    "name": "ipython",
    "version": 3
   },
   "file_extension": ".py",
   "mimetype": "text/x-python",
   "name": "python",
   "nbconvert_exporter": "python",
   "pygments_lexer": "ipython3",
   "version": "3.10.4"
  }
 },
 "nbformat": 4,
 "nbformat_minor": 5
}

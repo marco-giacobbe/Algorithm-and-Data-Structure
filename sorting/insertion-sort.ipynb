{
 "cells": [
  {
   "cell_type": "markdown",
   "id": "16321743",
   "metadata": {},
   "source": [
    "# INSERTION SORT\n",
    "## Funzionamento\n",
    "\n",
    "L'*Insertion Sort* si occupa di prendere ad ogni iterazione un elemento non ordinarlo andandolo a mettere nel sotto-vettore ordinato\n",
    "\n",
    "Avremo quindi l'array suddiviso in due parti:\n",
    "\n",
    "    1° Round:\n",
    "        sotto-vettore ordinato: 1 elemento\n",
    "        sotto-vettore ordinato: N-1 elementi\n",
    "        \n",
    "    2° Round:\n",
    "        sotto-vettore ordinato: 2 elemento\n",
    "        sotto-vettore ordinato: N-2 elementi\n",
    "        \n",
    "    N-1° Round:\n",
    "        sotto-vettore ordinato: N elemento\n",
    "        sotto-vettore ordinato: 0 elementi\n",
    "        \n",
    "Essendo che ad ogni iterazione, almeno un elemento verrà ordinato l'algoritmo dovrà effettuare al più N-1 iterazioni\n",
    "\n",
    "Generalizzando:\n",
    "\n",
    "Nell'iterazione k-esima verrà ordinato l'elemento k\n",
    "\n",
    "Questo va poi confrontato con gli elementi del sotto-vettore ordinato partendo da destra verso sinistra, finchè non avviene uno dei due casi:\n",
    "\n",
    "    - L'elemento i-esimo del sottovettore ordinato è minore di k\n",
    "    - Tutti gli elementi del sottovettore sono più grandi di k (k  andrà in prima posizione\n",
    "    \n",
    "Confrontando i vari elementi dovremmo eseguire uno *shift right* degli elementi più grandi di k in modo da andare a creare uno spazio dove poi inserire il nuovo elemento"
   ]
  },
  {
   "cell_type": "markdown",
   "id": "1647158b",
   "metadata": {},
   "source": [
    "## Algoritmo"
   ]
  },
  {
   "cell_type": "code",
   "execution_count": 1,
   "id": "d674d35a",
   "metadata": {},
   "outputs": [],
   "source": [
    "def insertion_sort(array):\n",
    "    \n",
    "    # i indica l'elemento da ordinare\n",
    "    for i in range(1,len(array)):\n",
    "        # salvo l'elemento in una variabile temporanea\n",
    "        key = array[i]\n",
    "        j = i\n",
    "        \n",
    "        # scorro j sul vettore temporaneo\n",
    "        while j > 0 and array[j-1] > key:\n",
    "            \n",
    "            # shift-right\n",
    "            array[j] = array[j-1]\n",
    "            j -= 1\n",
    "        # inserisco j in ordine\n",
    "        array[j] = key\n",
    "        \n",
    "    return array"
   ]
  },
  {
   "cell_type": "code",
   "execution_count": 2,
   "id": "9283038c",
   "metadata": {},
   "outputs": [
    {
     "name": "stdout",
     "output_type": "stream",
     "text": [
      "[13, 33, 37, 44, 49, 50, 72, 74, 82, 88]\n"
     ]
    }
   ],
   "source": [
    "array = [74, 33, 49, 37, 50, 13, 72, 82, 88, 44]\n",
    "print(insertion_sort(array))"
   ]
  },
  {
   "cell_type": "markdown",
   "id": "531579f3",
   "metadata": {},
   "source": [
    "## Costo Computazionale\n",
    "\n",
    "Il ciclo esterno viene eseguito *N* volte\n",
    "\n",
    "Mentre il ciclo interno verrà eseguito:\n",
    "\n",
    "$$\n",
    "\\frac{N(N-1)}{2}\n",
    "$$\n",
    "\n",
    "Infatti ad ogni iterazione, nel peggiore dei casi, dovrà scorrerre tutto il sotto-vettore ordinato contenente, inizialmente un elemento, per arrivare ad N-2\n",
    "\n",
    "Il costo computazioanle dell'algoritmo sarà quindi:\n",
    "\n",
    "$$\n",
    "O(N^2)\n",
    "$$"
   ]
  },
  {
   "cell_type": "code",
   "execution_count": null,
   "id": "897c0617",
   "metadata": {},
   "outputs": [],
   "source": []
  }
 ],
 "metadata": {
  "kernelspec": {
   "display_name": "Python 3 (ipykernel)",
   "language": "python",
   "name": "python3"
  },
  "language_info": {
   "codemirror_mode": {
    "name": "ipython",
    "version": 3
   },
   "file_extension": ".py",
   "mimetype": "text/x-python",
   "name": "python",
   "nbconvert_exporter": "python",
   "pygments_lexer": "ipython3",
   "version": "3.10.4"
  }
 },
 "nbformat": 4,
 "nbformat_minor": 5
}

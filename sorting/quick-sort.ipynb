{
 "cells": [
  {
   "cell_type": "markdown",
   "id": "70f5fb20",
   "metadata": {},
   "source": [
    "# QuickSort\n",
    "\n",
    "Similmente al mergesort, anche il quicksort è basato sul concetto di *divide et impera* \n",
    "\n",
    "L'algoritmo si ordina di suddividere l'array in sotto-array che poi verranno ordinati e combinati alla fine\n",
    "\n",
    "Per far ciò utilizza una funzione ausiliare chiamata Partion che si occupa di selezionare un elemento detto *pivot* attorno alla quale avviene il partizionamento\n",
    "\n",
    "Alla sinistra del pivot andranno tutti gli elementi più piccoli del pivot stesso, sulla destra gli elementi più grandi\n",
    "\n",
    "La scelta del pivot è dunque importante perchè, più il pivot si avvicina all'elemento mediano più la suddivisione sarà precisa e più efficiente sarà l'algoritmo\n",
    "\n",
    "Tuttavia risulta impossibile scegliere con precisione l'elemento mediano, si preferisce quindi considerare l'ultimo elemento come pivot per poi portarlo nella posizione corretta alla fine del partizionamento"
   ]
  },
  {
   "cell_type": "code",
   "execution_count": 1,
   "id": "ff5b33bf",
   "metadata": {},
   "outputs": [],
   "source": [
    "def partition(data, left, right):\n",
    "    pivot = right\n",
    "    right -= 1\n",
    "    while left < right:\n",
    "        while data[left] < data[pivot]:\n",
    "            left += 1\n",
    "        while data[right] > data[pivot]:\n",
    "            right -= 1\n",
    "        if left<right:\n",
    "            data[left], data[right] = data[right], data[left]\n",
    "    if data[left] >= data[pivot]:\n",
    "        data[left], data[pivot] = data[pivot], data[left]\n",
    "    return pivot\n",
    "\n",
    "def quicksort(data, left, right):\n",
    "    if left<right:\n",
    "        pivot = partition(data, left, right)\n",
    "        quicksort(data, left, pivot - 1)\n",
    "        quicksort(data, pivot + 1, right)"
   ]
  },
  {
   "cell_type": "markdown",
   "id": "b1cc26f3",
   "metadata": {},
   "source": [
    "## Costo Computazionale\n",
    "\n",
    "Come abbiamo detto il costo computazionale del quicksort dipende dalla qualità del partizionamento a sua volta dipendente dall'ultimo elemento\n",
    "\n",
    "### Caso peggiore\n",
    "\n",
    "Nel caso peggiore l'ultimo elemento sarà sempre l'elemento più grande o più piccolo\n",
    "\n",
    "Ad ogni iterazione avremo quindi:\n",
    "\n",
    "- Sottovettore di 0 elementi\n",
    "- Pivot\n",
    "- Sottovettore di N-1 elementi\n",
    "\n",
    "Dovremmo quindi chiamare iterare N-1 volte\n",
    "\n",
    "### Caso migliore\n",
    "\n",
    "Nel caso migliore invece il partizionamento produrrà due sottovettori di uguale dimensione, questo avviene solo e soltanto quando l'elemento scelto come pivot è esettamente il mediano del vettore\n",
    "\n",
    "In questo caso dovremmo iterare solamente lg(2) volte in quanto ad ogni iterazione le dimensioni dei sottovettori dimezzeranno\n",
    "\n",
    "## Valutazione finale\n",
    "\n",
    "Il partizionamento in sè avrà un costo di O(n) in quanto dovrà scorrere tutto il sotto-vettore\n",
    "\n",
    "La complessità nel caso peggiore sarà:\n",
    "\n",
    "$$\n",
    "O(N^2)\n",
    "$$\n",
    "\n",
    "Mentre nel caso migliore sarà:\n",
    "\n",
    "$$\n",
    "O(N\\log_2(N))\n",
    "$$"
   ]
  }
 ],
 "metadata": {
  "kernelspec": {
   "display_name": "Python 3 (ipykernel)",
   "language": "python",
   "name": "python3"
  },
  "language_info": {
   "codemirror_mode": {
    "name": "ipython",
    "version": 3
   },
   "file_extension": ".py",
   "mimetype": "text/x-python",
   "name": "python",
   "nbconvert_exporter": "python",
   "pygments_lexer": "ipython3",
   "version": "3.10.4"
  }
 },
 "nbformat": 4,
 "nbformat_minor": 5
}

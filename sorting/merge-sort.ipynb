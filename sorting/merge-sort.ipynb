{
 "cells": [
  {
   "cell_type": "markdown",
   "id": "efe67cb0",
   "metadata": {},
   "source": [
    "# MERGE SORT\n",
    "## Funzionamento\n",
    "\n",
    "L'insertion sort è un algoritmo ricorsivo di tipo *dividi et impera*, si occupa infatti di:\n",
    "\n",
    "    - Dividere il problema in sotto problemi\n",
    "    - Risolvere i sottoproblemi\n",
    "    - Combinare i sottoproblemi risolti per risolvere il problema iniziale\n",
    "    \n",
    "Possiamo immaginare di suddividere per ogni chiamata ricorsiva un vettore in due sottovettori\n",
    "\n",
    "Partendo da un sotto vettore di N elementi avremo:\n",
    "\n",
    "- 1° livello di ricorsione: larghezza array -> n/2\n",
    "- 2° livello di ricorsione: larghezza array -> n/4\n",
    "- K° livello di ricorsione: larghezza array -> n/2^k\n",
    "\n",
    "La ricorsione si fermerà quando avremo sottovettori composti da un unico elemento\n",
    "\n",
    "$$\n",
    "1 = \\frac{n}{2^k}\n",
    "$$\n",
    "\n",
    "$$\n",
    "2^k = n\n",
    "$$\n",
    "\n",
    "$$\n",
    "\\log_2(n) = k\n",
    "$$\n",
    "\n",
    "Una volta che avremo i nostri sottovettori possiamo eseguire il merge mettendo questa volta gli elementi in ordine fino a tornare al nostro vettore di partenza ordinato"
   ]
  },
  {
   "cell_type": "markdown",
   "id": "e4be0507",
   "metadata": {},
   "source": [
    "## Algoritmo\n",
    "\n",
    "L'algoritmo di merge sort utilizza due funzioni\n",
    "\n",
    "### merge-sort\n",
    "\n",
    "Si occupa di prendere l'array, chiamare ricorsivamente se stesso sul sottovettore destro e sul sottovettore sinistro e chiamare infine la funzione di merge\n",
    "\n",
    "La funzione utilizza un indice ausiliari che tiene traccia della metà del vettore e si calcola a partire dalla sua lunghezza"
   ]
  },
  {
   "cell_type": "code",
   "execution_count": 1,
   "id": "fb2194a5",
   "metadata": {},
   "outputs": [],
   "source": [
    "def merge_sort(array):\n",
    "    \n",
    "    n = len(array)\n",
    "    if n<2:\n",
    "        return\n",
    "    m = n//2\n",
    "    a1 = array[:m]\n",
    "    a2 = array[m:n]\n",
    "    merge_sort(a1)\n",
    "    merge_sort(a2)\n",
    "    merge(array,a1,a2)\n",
    "    return array"
   ]
  },
  {
   "cell_type": "markdown",
   "id": "1b8a31c2",
   "metadata": {},
   "source": [
    "### merge\n",
    "\n",
    "Prende in input il vettore da ordinare e i due sottovettori di cui fare il merge\n",
    "\n",
    "Usa degli indici per scorrere il primo sotto vettore e il secondo\n",
    "\n",
    "- Se l'elemento indicato da i-element < j-element i-element viene aggiunto al vettore ordinato (o viceversa)\n",
    "\n",
    "- Se i coincide con la lunghezza del suo sottovettore allora possiamo procedere ad inserire tutti gli elementi dell'altro sottovettore\n",
    "\n",
    "Essendo i sottovettori ordinati non dobbiamo procedere a fare controlli sugli elementi"
   ]
  },
  {
   "cell_type": "code",
   "execution_count": 2,
   "id": "b0c8b454",
   "metadata": {},
   "outputs": [],
   "source": [
    "def merge(array, a1, a2):\n",
    "    i, j = 0, 0\n",
    "    while i+j < len(array):\n",
    "        if j==len(a2):\n",
    "            while i!=len(a1):\n",
    "                array[i+j] = a1[i]\n",
    "                i+=1\n",
    "            return\n",
    "        if i==len(a1):\n",
    "            while j!=len(a2):\n",
    "                array[i+j] = a2[j]\n",
    "                j+=1\n",
    "            return\n",
    "        if a1[i]<a2[j]:\n",
    "            array[i+j] = a1[i]\n",
    "            i+=1\n",
    "        else:\n",
    "            array[i+j] = a2[j]\n",
    "            j+=1\n",
    "\n",
    "    "
   ]
  },
  {
   "cell_type": "code",
   "execution_count": 3,
   "id": "3a223420",
   "metadata": {},
   "outputs": [
    {
     "name": "stdout",
     "output_type": "stream",
     "text": [
      "[13, 33, 37, 44, 49, 50, 72, 74, 82, 88]\n"
     ]
    }
   ],
   "source": [
    "array = [74, 33, 49, 37, 50, 13, 72, 82, 88, 44]\n",
    "print(merge_sort(array))"
   ]
  },
  {
   "cell_type": "markdown",
   "id": "78e089ba",
   "metadata": {},
   "source": [
    "## Costo computazionale\n",
    "\n",
    "Abbiamo detto che l'algoritmo ha la necessità di chiamare se stessi ricorsivamente al più\n",
    "\n",
    "$$\n",
    "\\log_2(n)\n",
    "$$\n",
    "\n",
    "Ad ogni chiamata dovrà scorrere il vettore\n",
    "\n",
    "Segue che la complessità computazionale sarà:\n",
    "\n",
    "$$\n",
    "O(N\\log_2(N))\n",
    "$$"
   ]
  }
 ],
 "metadata": {
  "kernelspec": {
   "display_name": "Python 3 (ipykernel)",
   "language": "python",
   "name": "python3"
  },
  "language_info": {
   "codemirror_mode": {
    "name": "ipython",
    "version": 3
   },
   "file_extension": ".py",
   "mimetype": "text/x-python",
   "name": "python",
   "nbconvert_exporter": "python",
   "pygments_lexer": "ipython3",
   "version": "3.10.4"
  }
 },
 "nbformat": 4,
 "nbformat_minor": 5
}
